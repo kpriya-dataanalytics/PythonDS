{
  "nbformat": 4,
  "nbformat_minor": 0,
  "metadata": {
    "colab": {
      "name": "Python Basics.ipynb",
      "provenance": [],
      "authorship_tag": "ABX9TyNErPsaLTpLDE6rBkEPuQx3",
      "include_colab_link": true
    },
    "kernelspec": {
      "name": "python3",
      "display_name": "Python 3"
    },
    "language_info": {
      "name": "python"
    }
  },
  "cells": [
    {
      "cell_type": "markdown",
      "metadata": {
        "id": "view-in-github",
        "colab_type": "text"
      },
      "source": [
        "<a href=\"https://colab.research.google.com/github/kpriya-dataanalytics/PythonDS/blob/main/Python_Basics.ipynb\" target=\"_parent\"><img src=\"https://colab.research.google.com/assets/colab-badge.svg\" alt=\"Open In Colab\"/></a>"
      ]
    },
    {
      "cell_type": "code",
      "source": [
        "!python "
      ],
      "metadata": {
        "colab": {
          "base_uri": "https://localhost:8080/"
        },
        "id": "65KmStGwqyFN",
        "outputId": "4d518549-6654-43ed-e124-4678a8bd1127"
      },
      "execution_count": 3,
      "outputs": [
        {
          "output_type": "stream",
          "name": "stdout",
          "text": [
            "Python 3.7.13\n"
          ]
        }
      ]
    },
    {
      "cell_type": "code",
      "source": [
        "!pip --version"
      ],
      "metadata": {
        "colab": {
          "base_uri": "https://localhost:8080/"
        },
        "id": "Uh0sCaq4rPj5",
        "outputId": "bcfe8162-1c78-4906-8203-9adc7081ca7f"
      },
      "execution_count": 1,
      "outputs": [
        {
          "output_type": "stream",
          "name": "stdout",
          "text": [
            "pip 21.1.3 from /usr/local/lib/python3.7/dist-packages/pip (python 3.7)\n"
          ]
        }
      ]
    },
    {
      "cell_type": "code",
      "source": [
        "import keyword\n",
        "\n",
        "print(keyword.kwlist)\n",
        "print(len(keyword.kwlist))"
      ],
      "metadata": {
        "colab": {
          "base_uri": "https://localhost:8080/"
        },
        "id": "fvTckloubizz",
        "outputId": "e6a37f36-54f9-4b70-bf8b-486e439d04d1"
      },
      "execution_count": 2,
      "outputs": [
        {
          "output_type": "stream",
          "name": "stdout",
          "text": [
            "['False', 'None', 'True', 'and', 'as', 'assert', 'async', 'await', 'break', 'class', 'continue', 'def', 'del', 'elif', 'else', 'except', 'finally', 'for', 'from', 'global', 'if', 'import', 'in', 'is', 'lambda', 'nonlocal', 'not', 'or', 'pass', 'raise', 'return', 'try', 'while', 'with', 'yield']\n",
            "35\n"
          ]
        }
      ]
    },
    {
      "cell_type": "markdown",
      "source": [
        "**Thumbrules for coding in Python:**\n",
        "\n",
        "1. **Keywords**\n",
        "  - Reserved words that are interpreted to perform certain predefined functions. \n",
        "  - *Keywords cannot be used as variable names.*\n",
        "\n",
        "2. **Variables or Identifiers:**\n",
        "  - *Cannot begin with a number*\n",
        "  - *Cannot have a special characters like !,@,$,#,% except _(underscore)*\n",
        "3. **Comments**\n",
        "  - Comments are descriptions about a class or method or variable or any entity inside a program to improve readability and reusability.\n",
        "  - They are ignored by the interpreter\n",
        "  - *Comments begin with a #*\n",
        "  - *'#' within a single quote is treated as a # string literal*\n",
        "  - Multiline comments - Lines enclosed within ''' (3 single quotes) or \"\"\" (3 double quotes)\n",
        "4. **Docstring (Similar to Javadocs)**\n",
        "  - Exists as lines enclosed within \"\"\" \"\"\" (3 double quotes) inside a method.\n",
        "  - Can be printed by calling \\_\\_doc\\_\\_ attribute of the method.\n",
        "     Eg: If method name is add, docstring of the method add is printed using print(add.\\_\\_doc\\_\\_)\n",
        "  - Press Shift+Tab to view docstring\n",
        "5. **Indentation**\n",
        "  - 4 whitespaces (preferred over tabs)\n",
        "  - {} from other languages that define a code block is replaced by the indentation in Python.\n",
        "  - There can be any level of indentations.\n",
        "  - When an indentation goes wrong Indentation Error is thrown\n",
        "6. **Statement**\n",
        "  - A single line of code is a statement\n",
        "  - Single Line of code starts and ends in the same line.\n",
        "  - Multiple lines of code is still a single statement when each line is appended with \\ in the end.\n",
        "  - \\ can be replaced with enclosing multiple lines within a bracket.\n"
      ],
      "metadata": {
        "id": "IX5k-ie-gAm7"
      }
    },
    {
      "cell_type": "markdown",
      "source": [
        "**VARIABLES**\n",
        "\n"
      ],
      "metadata": {
        "id": "gxBgf5WRr4IV"
      }
    }
  ]
}